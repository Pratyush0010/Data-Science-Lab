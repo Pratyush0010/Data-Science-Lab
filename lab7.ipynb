{
 "cells": [
  {
   "cell_type": "markdown",
   "metadata": {},
   "source": [
    "## Advanced Statistics"
   ]
  },
  {
   "cell_type": "code",
   "execution_count": 9,
   "metadata": {},
   "outputs": [
    {
     "data": {
      "text/plain": [
       "array([[<Axes: title={'center': '0'}>]], dtype=object)"
      ]
     },
     "execution_count": 9,
     "metadata": {},
     "output_type": "execute_result"
    },
    {
     "data": {
      "image/png": "[encoded data removed]",
      "text/plain": [
       "<Figure size 640x480 with 1 Axes>"
      ]
     },
     "metadata": {},
     "output_type": "display_data"
    },
    {
     "data": {
      "image/png": "[encoded data removed]",
      "text/plain": [
       "<Figure size 640x480 with 1 Axes>"
      ]
     },
     "metadata": {},
     "output_type": "display_data"
    }
   ],
   "source": [
    "import numpy as np\n",
    "from scipy import stats\n",
    "import pandas as pd\n",
    "np.random.seed(1234)\n",
    "long_breaks = stats.poisson.rvs(loc=10, mu=60, size=3000)\n",
    "short_breaks = stats.poisson.rvs(loc=10, mu=15, size=6000)\n",
    "breaks = np.concatenate((long_breaks, short_breaks))\n",
    "pd.DataFrame(breaks).hist(bins=50,range=(5,100))\n",
    "point_estimates = []\n",
    "for x in range(1000): # Generate 500 samples\n",
    "    sample = np.random.choice(a= breaks, size=100)\n",
    "#take a sample of 100 points\n",
    "    point_estimates.append( sample.mean() )\n",
    "# add the sample mean to our list of point estimates\n",
    "pd.DataFrame(point_estimates).hist()\n",
    "# look at the distribution of our sample\n"
   ]
  },
  {
   "cell_type": "markdown",
   "metadata": {},
   "source": [
    "## Confidence Intervals"
   ]
  },
  {
   "cell_type": "code",
   "execution_count": 4,
   "metadata": {},
   "outputs": [
    {
     "data": {
      "text/plain": [
       "(np.float64(35.070124167701685), np.float64(43.46987583229832))"
      ]
     },
     "execution_count": 4,
     "metadata": {},
     "output_type": "execute_result"
    }
   ],
   "source": [
    "import math\n",
    "\n",
    "sample_size = 100\n",
    "# the size of the sample we wish to take\n",
    "sample = np.random.choice(a= breaks, size = sample_size)\n",
    "# a sample of sample_size taken from the 9,000 breaks population from before\n",
    "sample_mean = sample.mean()\n",
    "# the sample mean of the break lengths sample\n",
    "sample_stdev = sample.std()\n",
    "# sample standard deviation\n",
    "sigma = sample_stdev/math.sqrt(sample_size)\n",
    "# population standard deviation estimate\n",
    "\n",
    "\n",
    "stats.t.interval(confidence = 0.95, # Confidence level 95%\n",
    "                 df= sample_size - 1, # Degrees of freedom\n",
    "                 loc = sample_mean, # Sample mean\n",
    "                scale = sigma) # Standard deviation"
   ]
  },
  {
   "cell_type": "code",
   "execution_count": 5,
   "metadata": {},
   "outputs": [
    {
     "name": "stdout",
     "output_type": "stream",
     "text": [
      "0.9464\n"
     ]
    }
   ],
   "source": [
    "# function to make confidence interval\n",
    "def makeConfidenceInterval():\n",
    "    sample_size = 100\n",
    "    sample = np.random.choice(a= breaks, size = sample_size)\n",
    "    sample_mean = sample.mean()\n",
    "    # sample mean\n",
    "    sample_stdev = sample.std()\n",
    "    # sample standard deviation\n",
    "    sigma = sample_stdev/math.sqrt(sample_size)\n",
    "    # population Standard deviation estimate\n",
    "    return stats.t.interval(confidence= 0.95, df= sample_size - 1, loc =\n",
    "    sample_mean, scale = sigma)\n",
    "\n",
    "times_in_interval = 0.\n",
    "\n",
    "for i in range(10000):\n",
    "    interval = makeConfidenceInterval()\n",
    "    if 39.99 >= interval[0] and 39.99 <= interval[1]:\n",
    "    # if 39.99 falls in the interval\n",
    "        times_in_interval += 1\n",
    "\n",
    "print(times_in_interval / 10000)"
   ]
  },
  {
   "cell_type": "code",
   "execution_count": 6,
   "metadata": {},
   "outputs": [
    {
     "name": "stdout",
     "output_type": "stream",
     "text": [
      "confidence 0.5 has a interval of size 2.87\n",
      "confidence 0.8 has a interval of size 5.46\n",
      "confidence 0.85 has a interval of size 6.14\n",
      "confidence 0.9 has a interval of size 7.03\n",
      "confidence 0.95 has a interval of size 8.4\n",
      "confidence 0.99 has a interval of size 11.12\n"
     ]
    }
   ],
   "source": [
    "for confidence in (.5, .8, .85, .9, .95, .99):\n",
    "    confidence_interval = stats.t.interval(confidence= confidence, df=sample_size - 1, loc = sample_mean, scale = sigma)\n",
    "    length_of_interval = round(confidence_interval[1] - confidence_interval[0], 2)\n",
    "# the length of the confidence interval\n",
    "    print(\"confidence {0} has a interval of size {1}\".format(confidence, length_of_interval))"
   ]
  },
  {
   "cell_type": "markdown",
   "metadata": {},
   "source": [
    "## Hypothesis Testing"
   ]
  },
  {
   "cell_type": "code",
   "execution_count": 7,
   "metadata": {},
   "outputs": [
    {
     "name": "stdout",
     "output_type": "stream",
     "text": [
      "T-Statistic: 6.0\n",
      "Critical t-value: 1.7108820799094275\n",
      "P-Value: 1.703654035845048e-06\n",
      "With T-value :\n",
      "There is a significant difference in weight before and after the camp. \n",
      "    The fitness camp had an effect.\n",
      "With P-value :\n",
      "There is no significant difference in weight before and after the camp. \n",
      "    The fitness camp did not have a significant effect.\n"
     ]
    }
   ],
   "source": [
    "import scipy.stats as stats\n",
    "import numpy as np\n",
    "\n",
    "# Define the population mean weight\n",
    "population_mean = 45\n",
    "\n",
    "# Define the sample mean weight and standard deviation\n",
    "sample_mean = 75\n",
    "sample_std = 25\n",
    "\n",
    "# Define the sample size\n",
    "sample_size = 25\n",
    "\n",
    "\n",
    "# Calculate the t-statistic\n",
    "t_statistic = (sample_mean - population_mean) / (sample_std / np.sqrt(sample_size))\n",
    "\n",
    "# Define the degrees of freedom\n",
    "df = sample_size - 1\n",
    "\n",
    "# Set the significance level (alpha)\n",
    "alpha = 0.05\n",
    "\n",
    "# Calculate the critical t-value\n",
    "critical_t = stats.t.ppf(1 - alpha, df)\n",
    "\n",
    "# Calculate the p-value\n",
    "p_value = 1 - stats.t.cdf(t_statistic, df)\n",
    "\n",
    "# Print the results\n",
    "print(\"T-Statistic:\", t_statistic)\n",
    "print(\"Critical t-value:\", critical_t)\n",
    "print(\"P-Value:\", p_value)\n",
    "\n",
    "# Decision\n",
    "print('With T-value :')\n",
    "if t_statistic > critical_t:\n",
    "    print(\"\"\"There is a significant difference in weight before and after the camp. \n",
    "    The fitness camp had an effect.\"\"\")\n",
    "else:\n",
    "    print(\"\"\"There is no significant difference in weight before and after the camp. \n",
    "    The fitness camp did not have a significant effect.\"\"\")\n",
    "\n",
    "print('With P-value :')\n",
    "if p_value >alpha:\n",
    "    print(\"\"\"There is a significant difference in weight before and after the camp. \n",
    "    The fitness camp had an effect.\"\"\")\n",
    "else:\n",
    "    print(\"\"\"There is no significant difference in weight before and after the camp. \n",
    "    The fitness camp did not have a significant effect.\"\"\")"
   ]
  },
  {
   "cell_type": "code",
   "execution_count": 8,
   "metadata": {},
   "outputs": [
    {
     "name": "stdout",
     "output_type": "stream",
     "text": [
      "T-value: -0.008275847896130646\n",
      "P-Value: 0.9934425963209128\n",
      "Critical t-value: 2.0280940009804502\n",
      "With T-value\n",
      "No significant difference found between two groups\n",
      "With P-value\n",
      "No evidence to reject the null hypothesis that a significant difference between the two groups\n"
     ]
    }
   ],
   "source": [
    "# import the necessary libraries\n",
    "from scipy import stats\n",
    "import numpy as np\n",
    "\n",
    "# Sample\n",
    "sample_A = np.array([78,84,92,88,75,80,85,90,87,7978,84,92,88,75,80,85,90,87,79])\n",
    "sample_B = np.array([82,88,75,90,78,85,88,77,92,8082,88,75,90,78,85,88,77,92,80])\n",
    "\n",
    "# Perform independent sample t-test\n",
    "t_statistic, p_value = stats.ttest_ind(sample_A, sample_B)\n",
    "\n",
    "# Set the significance level (alpha)\n",
    "alpha = 0.05\n",
    "\n",
    "# Compute the degrees of freedom (df) (n_A-1)+(n_b-1)\n",
    "df = len(sample_A)+len(sample_B)-2\n",
    "\n",
    "# Calculate the critical t-value\n",
    "# ppf is used to find the critical t-value for a two-tailed test\n",
    "critical_t = stats.t.ppf(1 - alpha/2, df)\n",
    "\n",
    "\n",
    "# Print the results\n",
    "print(\"T-value:\", t_statistic)\n",
    "print(\"P-Value:\", p_value)\n",
    "print(\"Critical t-value:\", critical_t)\n",
    "\n",
    "# Decision\n",
    "print('With T-value')\n",
    "if np.abs(t_statistic) >critical_t:\n",
    "    print('There is significant difference between two groups')\n",
    "else:\n",
    "    print('No significant difference found between two groups')\n",
    "\n",
    "print('With P-value')\n",
    "if p_value >alpha:\n",
    "    print('No evidence to reject the null hypothesis that a significant difference between the two groups')\n",
    "else:\n",
    "\n",
    "    print('Evidence found to reject the null hypothesis that a significant difference between the two groups')"
   ]
  },
  {
   "cell_type": "markdown",
   "metadata": {},
   "source": [
    "## T-test question"
   ]
  },
  {
   "cell_type": "code",
   "execution_count": 3,
   "metadata": {},
   "outputs": [
    {
     "name": "stdout",
     "output_type": "stream",
     "text": [
      "T-value: 2.2471001405658484\n",
      "P-Value: 0.03741242338800086\n",
      "Critical t-value: 2.10092204024096\n",
      "With T-value\n",
      "There is significant difference between two groups\n",
      "With P-value\n",
      "Evidence found to reject the null hypothesis that a significant difference between the two groups\n"
     ]
    }
   ],
   "source": [
    "import numpy as np\n",
    "from scipy import stats\n",
    "group_X = np.array([85, 92, 87, 90, 88, 83, 86, 89, 91, 84])\n",
    "group_Y = np.array([80, 85, 78, 88, 83, 87, 86, 82, 89, 84])\n",
    "# Perform independent sample t-test\n",
    "t_statistic, p_value = stats.ttest_ind(group_X, group_Y)\n",
    "\n",
    "# Set the significance level (alpha)\n",
    "alpha = 0.05\n",
    "\n",
    "# Compute the degrees of freedom (df) (n_A-1)+(n_b-1)\n",
    "df = len(group_X)+len(group_Y)-2\n",
    "\n",
    "# Calculate the critical t-value\n",
    "# ppf is used to find the critical t-value for a two-tailed test\n",
    "critical_t = stats.t.ppf(1 - alpha/2, df)\n",
    "\n",
    "\n",
    "# Print the results\n",
    "print(\"T-value:\", t_statistic)\n",
    "print(\"P-Value:\", p_value)\n",
    "print(\"Critical t-value:\", critical_t)\n",
    "\n",
    "# Decision\n",
    "print('With T-value')\n",
    "if np.abs(t_statistic) >critical_t:\n",
    "    print('There is significant difference between two groups')\n",
    "else:\n",
    "    print('No significant difference found between two groups')\n",
    "\n",
    "print('With P-value')\n",
    "if p_value >alpha:\n",
    "    print('No evidence to reject the null hypothesis that a significant difference between the two groups')\n",
    "else:\n",
    "\n",
    "    print('Evidence found to reject the null hypothesis that a significant difference between the two groups')"
   ]
  },
  {
   "cell_type": "markdown",
   "metadata": {},
   "source": [
    "## Chi square test"
   ]
  },
  {
   "cell_type": "code",
   "execution_count": 4,
   "metadata": {},
   "outputs": [
    {
     "name": "stdout",
     "output_type": "stream",
     "text": [
      "Chi-Square Statistic: 4.0212\n",
      "P-Value: 0.1339\n",
      "Degrees of Freedom: 2\n",
      "Expected Frequencies Table:\n",
      "[[16.875 13.125 15.   ]\n",
      " [28.125 21.875 25.   ]]\n",
      "Fail to reject the null hypothesis: No significant relationship between gender and ice cream preference.\n"
     ]
    }
   ],
   "source": [
    "import numpy as np\n",
    "from scipy.stats import chi2_contingency\n",
    "\n",
    "# Define the contingency table\n",
    "data = np.array([[20, 15, 10],  # Male\n",
    "                 [25, 20, 30]]) # Female\n",
    "\n",
    "# Perform the Chi-Square test\n",
    "chi2_stat, p_value, dof, expected = chi2_contingency(data)\n",
    "\n",
    "# Print the results\n",
    "print(f\"Chi-Square Statistic: {chi2_stat:.4f}\")\n",
    "print(f\"P-Value: {p_value:.4f}\")\n",
    "print(f\"Degrees of Freedom: {dof}\")\n",
    "print(\"Expected Frequencies Table:\")\n",
    "print(expected)\n",
    "\n",
    "# Interpretation\n",
    "alpha = 0.05  # Significance level\n",
    "if p_value < alpha:\n",
    "    print(\"Reject the null hypothesis: There is a significant relationship between gender and ice cream preference.\")\n",
    "else:\n",
    "    print(\"Fail to reject the null hypothesis: No significant relationship between gender and ice cream preference.\")"
   ]
  },
  {
   "cell_type": "markdown",
   "metadata": {},
   "source": [
    "## Question"
   ]
  },
  {
   "cell_type": "code",
   "execution_count": 6,
   "metadata": {},
   "outputs": [
    {
     "name": "stdout",
     "output_type": "stream",
     "text": [
      "Chi-Square Statistic: 0.0230\n",
      "P-Value: 0.9999\n",
      "Degrees of Freedom: 4\n",
      "Expected Frequencies Table:\n",
      "[[35.  52.5 12.5]\n",
      " [28.  42.  10. ]\n",
      " [ 7.  10.5  2.5]]\n",
      "Fail to reject the null hypothesis: No significant relationship between eye color and hair color preference.\n"
     ]
    }
   ],
   "source": [
    "import numpy as np\n",
    "from scipy.stats import chi2_contingency\n",
    "\n",
    "# Define the contingency table\n",
    "data = np.array([[35,52.5,12.5],  # Blue\n",
    "                 [28.1,42.1,9.8], # Brown\n",
    "                 [6.9,10.4,2.7]])#Green\n",
    "\n",
    "# Perform the Chi-Square test\n",
    "chi2_stat, p_value, dof, expected = chi2_contingency(data)\n",
    "\n",
    "# Print the results\n",
    "print(f\"Chi-Square Statistic: {chi2_stat:.4f}\")\n",
    "print(f\"P-Value: {p_value:.4f}\")\n",
    "print(f\"Degrees of Freedom: {dof}\")\n",
    "print(\"Expected Frequencies Table:\")\n",
    "print(expected)\n",
    "\n",
    "# Interpretation\n",
    "alpha = 0.05  # Significance level\n",
    "if p_value < alpha:\n",
    "    print(\"Reject the null hypothesis: There is a significant relationship between eye color and hair color preference.\")\n",
    "else:\n",
    "    print(\"Fail to reject the null hypothesis: No significant relationship between eye color and hair color preference.\")"
   ]
  },
  {
   "cell_type": "markdown",
   "metadata": {},
   "source": [
    "## Anova Test"
   ]
  },
  {
   "cell_type": "code",
   "execution_count": 7,
   "metadata": {},
   "outputs": [],
   "source": [
    "from scipy.stats import f_oneway\n",
    "\n",
    "e = [2,4,2]\n",
    "m = [2,3,4]\n",
    "s = [1,2,5]"
   ]
  },
  {
   "cell_type": "code",
   "execution_count": 8,
   "metadata": {},
   "outputs": [
    {
     "name": "stdout",
     "output_type": "stream",
     "text": [
      "fail to reject null hypothesis\n"
     ]
    }
   ],
   "source": [
    "stats, p_value = f_oneway(e,m,s)\n",
    "alpha = 0.05\n",
    "\n",
    "if (p_value < alpha):\n",
    "    print(\"reject null hypothesis\")\n",
    "else:\n",
    "    print(\"fail to reject null hypothesis\")"
   ]
  },
  {
   "cell_type": "code",
   "execution_count": 13,
   "metadata": {},
   "outputs": [
    {
     "name": "stdout",
     "output_type": "stream",
     "text": [
      "stats: 4.625000000000002\n",
      "The P-Value is: 0.01633645983978022\n",
      "reject null hypothesis\n"
     ]
    }
   ],
   "source": [
    "# question\n",
    "\n",
    "performance_1 = [89, 89, 88, 78, 79]\n",
    "performance_2 = [93, 92, 94, 89, 88]\n",
    "performance_3 = [89, 88, 89, 93, 90]\n",
    "performance_4 = [81, 78, 81, 92, 82]\n",
    "#Solution\n",
    "stats, p_value = f_oneway(performance_1,performance_2,performance_3,performance_4)\n",
    "alpha = 0.05\n",
    "print(f\"stats:\",stats)\n",
    "print(f\"The P-Value is:\",p_value)\n",
    "if (p_value < alpha):\n",
    "    print(\"reject null hypothesis\")\n",
    "else:\n",
    "    print(\"fail to reject null hypothesis\")"
   ]
  }
 ],
 "metadata": {
  "kernelspec": {
   "display_name": "Python 3",
   "language": "python",
   "name": "python3"
  },
  "language_info": {
   "codemirror_mode": {
    "name": "ipython",
    "version": 3
   },
   "file_extension": ".py",
   "mimetype": "text/x-python",
   "name": "python",
   "nbconvert_exporter": "python",
   "pygments_lexer": "ipython3",
   "version": "3.13.0"
  }
 },
 "nbformat": 4,
 "nbformat_minor": 2
}
