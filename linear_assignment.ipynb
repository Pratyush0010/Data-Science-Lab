{
 "cells": [
  {
   "cell_type": "markdown",
   "metadata": {},
   "source": [
    "### 1"
   ]
  },
  {
   "cell_type": "code",
   "execution_count": 6,
   "metadata": {},
   "outputs": [
    {
     "name": "stdout",
     "output_type": "stream",
     "text": [
      "Addition:\n",
      " [[ 3  1]\n",
      " [-3  7]]\n",
      "Multiplication:\n",
      " [[ 2 -2]\n",
      " [ 0 12]]\n",
      "Subtraction:\n",
      " [[ 4 -7]\n",
      " [ 6  1]]\n"
     ]
    }
   ],
   "source": [
    "import numpy as np\n",
    "A=np.array([[2,-1],[0,3]])\n",
    "B=np.array([[1,2],[-3,4]])\n",
    "#Addition\n",
    "X=A+B\n",
    "#multiplication\n",
    "Y=A*B\n",
    "#subtraction\n",
    "Z=3*A-2*B\n",
    "#display the results\n",
    "print(f\"Addition:\\n\",X)\n",
    "print(f\"Multiplication:\\n\",Y)\n",
    "print(f\"Subtraction:\\n\",Z)\n"
   ]
  },
  {
   "cell_type": "markdown",
   "metadata": {},
   "source": [
    "### 2"
   ]
  },
  {
   "cell_type": "code",
   "execution_count": 5,
   "metadata": {},
   "outputs": [
    {
     "name": "stdout",
     "output_type": "stream",
     "text": [
      "Determinant: 6.0\n",
      "Invertible\n",
      "Inverse:\n",
      " [[0.5        0.16666667]\n",
      " [0.         0.33333333]]\n"
     ]
    }
   ],
   "source": [
    "import numpy.linalg as LA\n",
    "A=np.array([[2,-1],[0,3]])\n",
    "#calculate determinant\n",
    "D=LA.det(A)\n",
    "#print determinant\n",
    "print(f\"Determinant:\",D)\n",
    "#invertible checking\n",
    "if(D!=0):\n",
    "    print(\"Invertible\")\n",
    "    #calculate inverse\n",
    "    I=LA.inv(A)\n",
    "    print(f\"Inverse:\\n\",I)\n",
    "else:\n",
    "    print(\"Non-Invertible\")   \n",
    "\n"
   ]
  },
  {
   "cell_type": "markdown",
   "metadata": {},
   "source": [
    "### 3"
   ]
  },
  {
   "cell_type": "code",
   "execution_count": 7,
   "metadata": {},
   "outputs": [
    {
     "name": "stdout",
     "output_type": "stream",
     "text": [
      "C:\n",
      " [[ 4  1]\n",
      " [-2  1]]\n",
      "Eigenvalue: 3.0\n",
      "Eigenvector: [ 0.70710678 -0.70710678]\n"
     ]
    }
   ],
   "source": [
    "C=np.array([[4,1],[-2,1]])\n",
    "#Calculate Eigenvalues and Eigen vector\n",
    "eva,eve = np.linalg.eig(C)\n",
    "#Display the values\n",
    "print(f\"C:\\n\",C)\n",
    "print(f\"Eigenvalue:\",eva[0])\n",
    "print(f\"Eigenvector:\",eve[:,0])"
   ]
  },
  {
   "cell_type": "markdown",
   "metadata": {},
   "source": [
    "### 4"
   ]
  },
  {
   "cell_type": "code",
   "execution_count": 8,
   "metadata": {},
   "outputs": [
    {
     "name": "stdout",
     "output_type": "stream",
     "text": [
      "Predicted price of car3:40.00080\n"
     ]
    }
   ],
   "source": [
    "# Define the feature matrix X \n",
    "X=np.array([[1, 4, 1.5, 100],   # Car 1 features (with bias term),bias term le if inputs 0 cha bhane ni output dincha\n",
    "              [1, 6, 2.0, 150]])  # Car 2 features (with bias term)\n",
    "# Define the price vector y\n",
    "# Prices of car 1 and car 2\n",
    "y=np.array([20, 30])  \n",
    "# Compute the coefficient vector b using the normal equation with pseudo-inverse\n",
    "# X^T is the transpose of X\n",
    "X_tp=X.T  \n",
    "# Using pseudo-inverse instead of regular inverse to handle singular matrix\n",
    "# Normal equation with pseudo-inverse, @ le matrix multiplication garcha\n",
    "b=np.linalg.pinv(X_tp@X) @X_tp@y  \n",
    " # 1 for the bias term ,feature vector of car 3 ho\n",
    "car3_features=np.array([1, 8, 3.0, 200]) \n",
    "#  X.T*b=y\n",
    "predicted_price=car3_features@b  \n",
    "print(f\"Predicted price of car3:{predicted_price:.5f}\")"
   ]
  }
 ],
 "metadata": {
  "kernelspec": {
   "display_name": "Python 3",
   "language": "python",
   "name": "python3"
  },
  "language_info": {
   "codemirror_mode": {
    "name": "ipython",
    "version": 3
   },
   "file_extension": ".py",
   "mimetype": "text/x-python",
   "name": "python",
   "nbconvert_exporter": "python",
   "pygments_lexer": "ipython3",
   "version": "3.13.0"
  }
 },
 "nbformat": 4,
 "nbformat_minor": 2
}
