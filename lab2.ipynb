{
 "cells": [
  {
   "cell_type": "code",
   "execution_count": 4,
   "metadata": {},
   "outputs": [
    {
     "name": "stdout",
     "output_type": "stream",
     "text": [
      "eligible for citizenship\n"
     ]
    }
   ],
   "source": [
    "age=int(input(\"Enter your age:\"))\n",
    "if(age>=16):\n",
    "    print(\"eligible for citizenship\")\n",
    "else:\n",
    "    print(\"not eligible for citizenship\")    "
   ]
  },
  {
   "cell_type": "markdown",
   "metadata": {},
   "source": [
    "# mathi ko program is for citizenship"
   ]
  },
  {
   "cell_type": "markdown",
   "metadata": {},
   "source": [
    "### program to check no is +ve or -ve and in range(0to50 and 50 to 100)\n"
   ]
  },
  {
   "cell_type": "code",
   "execution_count": 9,
   "metadata": {},
   "outputs": [
    {
     "name": "stdout",
     "output_type": "stream",
     "text": [
      "greater than 100\n"
     ]
    }
   ],
   "source": [
    "a=int(input(\"Enter any no:\"))\n",
    "if(a<0):\n",
    "    print(\"negative\")\n",
    "elif(a>=0 and a<=50):\n",
    "    print(\"0 to 50\")\n",
    "elif(a>=50 and a<=100):\n",
    "    print(\"50 to 100\")\n",
    "else:\n",
    "    print(\"greater than 100\")            "
   ]
  },
  {
   "cell_type": "markdown",
   "metadata": {},
   "source": [
    "# for loop"
   ]
  },
  {
   "cell_type": "code",
   "execution_count": null,
   "metadata": {},
   "outputs": [
    {
     "name": "stdout",
     "output_type": "stream",
     "text": [
      "0\n",
      "1\n",
      "2\n",
      "3\n",
      "4\n",
      "5\n",
      "6\n",
      "7\n",
      "8\n",
      "9\n",
      "1\n",
      "3\n",
      "5\n",
      "7\n",
      "9\n",
      "1\n",
      "2\n",
      "3\n",
      "4\n",
      "5\n",
      "6\n",
      "7\n",
      "8\n",
      "9\n",
      "10\n"
     ]
    }
   ],
   "source": [
    "for i in range(10):\n",
    "    print(i)\n",
    "print(\"aba odd number wala\")    \n",
    "for i in range(1,10,2):#tyo 2 bhaneko yeuta skip garera sidhai 2nd step ma zanxa \n",
    "    print(i)\n",
    "print(\"last point pani python ma print garney bhaye +1 rakhney\")    \n",
    "for i in range(1,10+1):\n",
    "    print(i)\n"
   ]
  },
  {
   "cell_type": "markdown",
   "metadata": {},
   "source": [
    "# sum of first n natural numbers\n"
   ]
  },
  {
   "cell_type": "code",
   "execution_count": null,
   "metadata": {},
   "outputs": [
    {
     "name": "stdout",
     "output_type": "stream",
     "text": [
      "sum= 55\n"
     ]
    }
   ],
   "source": [
    "n=int(input(\"Enter no of terms:\"))\n",
    "x=0\n",
    "for i in range(1,n+1):\n",
    "    x=x+i\n",
    "print(f\"sum={x}\")    "
   ]
  },
  {
   "cell_type": "markdown",
   "metadata": {},
   "source": [
    "# break and continue\n"
   ]
  },
  {
   "cell_type": "code",
   "execution_count": null,
   "metadata": {},
   "outputs": [],
   "source": [
    "for i in range(10):\n",
    "    if(i==5):# 0 dekhi 4 samma print hunxa\n",
    "        break\n",
    "    print(i)\n",
    "for i in range(10):\n",
    "    if(i==5):# sab print hunxa 0 dekhi 9 excluding 5\n",
    "        continue\n",
    "    print(i)    "
   ]
  },
  {
   "cell_type": "markdown",
   "metadata": {},
   "source": [
    "## sum of n natural numbers using while loop\n"
   ]
  },
  {
   "cell_type": "code",
   "execution_count": 5,
   "metadata": {},
   "outputs": [
    {
     "name": "stdout",
     "output_type": "stream",
     "text": [
      "55\n"
     ]
    }
   ],
   "source": [
    "n=int(input(\"Enter no of terms\"))\n",
    "i=1\n",
    "x=0\n",
    "while(i<=n):\n",
    "    x=x+i\n",
    "    i=i+1\n",
    "print(x)    "
   ]
  },
  {
   "cell_type": "markdown",
   "metadata": {},
   "source": [
    "# list\n"
   ]
  },
  {
   "cell_type": "code",
   "execution_count": 7,
   "metadata": {},
   "outputs": [
    {
     "name": "stdout",
     "output_type": "stream",
     "text": [
      "<class 'list'>\n",
      "(0, 'Apple')\n",
      "(1, 'Banana')\n",
      "(2, 'Mango')\n",
      "(3, 23)\n",
      "(4, True)\n",
      "position0, and value =Apple\n",
      "position1, and value =Banana\n",
      "position2, and value =Mango\n",
      "position3, and value =23\n",
      "position4, and value =True\n"
     ]
    }
   ],
   "source": [
    "name=[\"Apple\",\"Banana\",\"Mango\",23,True]\n",
    "print(type(name))\n",
    "for i in enumerate(name):\n",
    "    print(i)\n",
    "for index,value in enumerate(name):\n",
    "    print(f\"position{index}, and value ={value}\")    "
   ]
  },
  {
   "cell_type": "markdown",
   "metadata": {},
   "source": [
    "# funtion use garera prime number check garney"
   ]
  },
  {
   "cell_type": "code",
   "execution_count": 14,
   "metadata": {},
   "outputs": [
    {
     "name": "stdout",
     "output_type": "stream",
     "text": [
      "Prime\n"
     ]
    }
   ],
   "source": [
    "def prime(a):\n",
    "    for i in range(2,a):\n",
    "        c=0\n",
    "        if(a%i==0):\n",
    "            c=1\n",
    "            break\n",
    "    if(c==1):\n",
    "        print(\"Not prime\")\n",
    "    else:\n",
    "        print(\"Prime\")        \n",
    "x=int(input(\"Enter any no:\"))\n",
    "prime(x)\n",
    "        "
   ]
  },
  {
   "cell_type": "code",
   "execution_count": null,
   "metadata": {},
   "outputs": [],
   "source": []
  }
 ],
 "metadata": {
  "kernelspec": {
   "display_name": "Python 3",
   "language": "python",
   "name": "python3"
  },
  "language_info": {
   "codemirror_mode": {
    "name": "ipython",
    "version": 3
   },
   "file_extension": ".py",
   "mimetype": "text/x-python",
   "name": "python",
   "nbconvert_exporter": "python",
   "pygments_lexer": "ipython3",
   "version": "3.13.0"
  }
 },
 "nbformat": 4,
 "nbformat_minor": 2
}
